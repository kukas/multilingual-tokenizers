version https://git-lfs.github.com/spec/v1
oid sha256:1a177afde7e49fe74c2c8f8aa81d51c0e14e73951cf5925de0c2c583f6ca17d5
size 15556000
